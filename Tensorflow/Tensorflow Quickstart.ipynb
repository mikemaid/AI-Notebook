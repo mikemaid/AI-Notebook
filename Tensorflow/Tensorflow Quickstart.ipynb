{
  "nbformat": 4,
  "nbformat_minor": 0,
  "metadata": {
    "colab": {
      "name": "TF2Quickstart.ipynb",
      "provenance": [],
      "authorship_tag": "ABX9TyOX83hfFdIrP7w0sKUgYnWU",
      "include_colab_link": true
    },
    "kernelspec": {
      "name": "python3",
      "display_name": "Python 3"
    },
    "language_info": {
      "name": "python"
    }
  },
  "cells": [
    {
      "cell_type": "markdown",
      "metadata": {
        "id": "view-in-github",
        "colab_type": "text"
      },
      "source": [
        "<a href=\"https://colab.research.google.com/github/sandalis05/MIT-FutureMakers/blob/main/Tensorflow%20Intro/TF2Quickstart.ipynb\" target=\"_parent\"><img src=\"https://colab.research.google.com/assets/colab-badge.svg\" alt=\"Open In Colab\"/></a>"
      ]
    },
    {
      "cell_type": "code",
      "metadata": {
        "colab": {
          "base_uri": "https://localhost:8080/"
        },
        "id": "TYpftZExGPob",
        "outputId": "0894a432-07fc-4628-981d-fd3a696570d6"
      },
      "source": [
        "import tensorflow as tf\n",
        "\n",
        "mnist = tf.keras.datasets.mnist\n",
        "\n",
        "(x_train, y_train), (x_test, y_test) = mnist.load_data()\n",
        "x_train, x_test = x_train / 255.0, x_test / 255.0\n",
        "\n",
        "model = tf.keras.models.Sequential([\n",
        "                                    tf.keras.layers.Flatten(input_shape=(28,28)),\n",
        "                                    tf.keras.layers.Dense(128, activation='relu'),\n",
        "                                    tf.keras.layers.Dropout(0.2),\n",
        "                                    tf.keras.layers.Dense(10)\n",
        "])\n",
        "\n",
        "predictions = model(x_train[:1]).numpy()\n",
        "predictions\n",
        "\n",
        "tf.nn.softmax(predictions).numpy()\n",
        "\n",
        "loss_fn = tf.keras.losses.SparseCategoricalCrossentropy(from_logits=True)\n",
        "loss_fn(y_train[:1], predictions).numpy()\n",
        "\n",
        "model.compile(optimizer='adam',\n",
        "              loss=loss_fn,\n",
        "              metrics=['accuracy'])\n",
        "model.fit(x_train, y_train, epochs=5)\n",
        "model.evaluate(x_test, y_test, verbose=2)\n",
        "\n",
        "probability_model = tf.keras.Sequential([\n",
        "                                         model,\n",
        "                                         tf.keras.layers.Softmax()\n",
        "])\n",
        "probability_model(x_test[:5])"
      ],
      "execution_count": 15,
      "outputs": [
        {
          "output_type": "stream",
          "text": [
            "Epoch 1/5\n",
            "1875/1875 [==============================] - 4s 2ms/step - loss: 0.3022 - accuracy: 0.9134\n",
            "Epoch 2/5\n",
            "1875/1875 [==============================] - 4s 2ms/step - loss: 0.1469 - accuracy: 0.9573\n",
            "Epoch 3/5\n",
            "1875/1875 [==============================] - 4s 2ms/step - loss: 0.1106 - accuracy: 0.9664\n",
            "Epoch 4/5\n",
            "1875/1875 [==============================] - 4s 2ms/step - loss: 0.0892 - accuracy: 0.9726\n",
            "Epoch 5/5\n",
            "1875/1875 [==============================] - 4s 2ms/step - loss: 0.0751 - accuracy: 0.9764\n",
            "313/313 - 0s - loss: 0.0772 - accuracy: 0.9779\n"
          ],
          "name": "stdout"
        },
        {
          "output_type": "execute_result",
          "data": {
            "text/plain": [
              "<tf.Tensor: shape=(5, 10), dtype=float32, numpy=\n",
              "array([[8.5750969e-08, 3.5362524e-10, 9.4306859e-07, 5.0348968e-05,\n",
              "        3.1286643e-10, 3.6910467e-07, 1.5282400e-13, 9.9994433e-01,\n",
              "        3.5865682e-07, 3.5600949e-06],\n",
              "       [1.7288032e-07, 1.0525960e-05, 9.9998760e-01, 9.1162923e-07,\n",
              "        1.7473848e-14, 4.7583706e-07, 2.7062859e-07, 9.3380368e-14,\n",
              "        8.3497625e-08, 1.2405274e-16],\n",
              "       [1.4869156e-07, 9.9885237e-01, 6.5271265e-04, 2.7942942e-05,\n",
              "        3.1122287e-05, 6.3426369e-06, 1.4316694e-05, 3.8427027e-04,\n",
              "        2.9584982e-05, 1.1979724e-06],\n",
              "       [9.9975556e-01, 3.8936601e-08, 2.9784160e-05, 7.4217645e-08,\n",
              "        5.7017255e-06, 8.4433441e-06, 1.7411387e-04, 1.8036155e-05,\n",
              "        2.5063807e-08, 8.2385650e-06],\n",
              "       [4.4194330e-06, 2.2556987e-09, 5.9208156e-07, 1.2304044e-08,\n",
              "        9.9840969e-01, 2.5853799e-07, 7.8737253e-07, 2.1781341e-05,\n",
              "        1.3169910e-06, 1.5611878e-03]], dtype=float32)>"
            ]
          },
          "metadata": {
            "tags": []
          },
          "execution_count": 15
        }
      ]
    }
  ]
}