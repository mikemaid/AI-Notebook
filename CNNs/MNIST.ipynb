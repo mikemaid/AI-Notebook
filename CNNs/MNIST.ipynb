{
  "nbformat": 4,
  "nbformat_minor": 0,
  "metadata": {
    "colab": {
      "name": "MNIST Practice.ipynb",
      "provenance": [],
      "authorship_tag": "ABX9TyMfERwszr1o2jQiogwgbrGC",
      "include_colab_link": true
    },
    "kernelspec": {
      "display_name": "Python 3",
      "name": "python3"
    },
    "language_info": {
      "name": "python"
    }
  },
  "cells": [
    {
      "cell_type": "markdown",
      "metadata": {
        "id": "view-in-github",
        "colab_type": "text"
      },
      "source": [
        "<a href=\"https://colab.research.google.com/github/sandalis05/MIT-FutureMakers/blob/main/Intro%20to%20CNNs/MNIST_Practice.ipynb\" target=\"_parent\"><img src=\"https://colab.research.google.com/assets/colab-badge.svg\" alt=\"Open In Colab\"/></a>"
      ]
    },
    {
      "cell_type": "code",
      "metadata": {
        "id": "ke_KmBXfyjzm"
      },
      "source": [
        "from keras.datasets import mnist\n",
        "\n",
        "import numpy as np \n",
        "import pandas as pd \n",
        "import seaborn as sns\n",
        "import matplotlib.pyplot as plt\n",
        "import tensorflow as tf\n",
        "\n",
        "import warnings\n",
        "# filter warnings\n",
        "warnings.filterwarnings('ignore')\n",
        "\n",
        "import os"
      ],
      "execution_count": null,
      "outputs": []
    },
    {
      "cell_type": "code",
      "metadata": {
        "colab": {
          "base_uri": "https://localhost:8080/"
        },
        "id": "0srUIsGVzSgE",
        "outputId": "3487a677-7015-4be2-817d-2620b7b2183a"
      },
      "source": [
        "(X_train, y_train), (X_test, y_test) = mnist.load_data()\n",
        "print(X_train.shape, y_train.shape)\n",
        "print(X_test.shape, y_test.shape)"
      ],
      "execution_count": null,
      "outputs": [
        {
          "output_type": "stream",
          "text": [
            "(60000, 28, 28) (60000,)\n",
            "(10000, 28, 28) (10000,)\n"
          ],
          "name": "stdout"
        }
      ]
    },
    {
      "cell_type": "code",
      "metadata": {
        "colab": {
          "base_uri": "https://localhost:8080/"
        },
        "id": "y_gbe9MN1Kg-",
        "outputId": "bf98bf7c-edb1-4eb8-8402-7f011a3762c4"
      },
      "source": [
        "print(\"Y Train (first 5 values):\", y_train[:5])"
      ],
      "execution_count": null,
      "outputs": [
        {
          "output_type": "stream",
          "text": [
            "Y Train (first 5 values): [5 0 4 1 9]\n"
          ],
          "name": "stdout"
        }
      ]
    },
    {
      "cell_type": "code",
      "metadata": {
        "colab": {
          "base_uri": "https://localhost:8080/"
        },
        "id": "ikUqA10725Ml",
        "outputId": "47eb2e51-7295-4d12-e487-07ae3e0059ae"
      },
      "source": [
        "print(\"Y Test (first 5 values):\", y_test[:5])"
      ],
      "execution_count": null,
      "outputs": [
        {
          "output_type": "stream",
          "text": [
            "Y Test (first 5 values): [7 2 1 0 4]\n"
          ],
          "name": "stdout"
        }
      ]
    },
    {
      "cell_type": "code",
      "metadata": {
        "colab": {
          "base_uri": "https://localhost:8080/",
          "height": 461
        },
        "id": "165cIWbW5oCR",
        "outputId": "cb1bdac8-1c8c-47e7-8e2e-71ba9df0df10"
      },
      "source": [
        "# visualize number of digits classes\n",
        "plt.figure(figsize=(15,7))\n",
        "g = sns.countplot(y_train, palette=\"icefire\")\n",
        "plt.title(\"Number of digit classes\")\n",
        "#y_train.value_counts()"
      ],
      "execution_count": null,
      "outputs": [
        {
          "output_type": "execute_result",
          "data": {
            "text/plain": [
              "Text(0.5, 1.0, 'Number of digit classes')"
            ]
          },
          "metadata": {
            "tags": []
          },
          "execution_count": 15
        },
        {
          "output_type": "display_data",
          "data": {
            "image/png": "[encoded data removed]",
            "text/plain": [
              "<Figure size 1080x504 with 1 Axes>"
            ]
          },
          "metadata": {
            "tags": []
          }
        }
      ]
    },
    {
      "cell_type": "code",
      "metadata": {
        "id": "I8_ClUk56q-z"
      },
      "source": [
        "# Label Encoding \n",
        "from keras.utils.np_utils import to_categorical # convert to one-hot-encoding\n",
        "y_train = to_categorical(y_train, num_classes = 10)"
      ],
      "execution_count": null,
      "outputs": []
    },
    {
      "cell_type": "code",
      "metadata": {
        "colab": {
          "base_uri": "https://localhost:8080/"
        },
        "id": "J-Hq6zOT7EQJ",
        "outputId": "1dc33933-f934-4446-c95d-4a37a2ddc9b1"
      },
      "source": [
        "# Normalize the data\n",
        "X_train = X_train / 255.0\n",
        "X_test = X_test / 255.0\n",
        "print(\"x_train shape: \",X_train.shape)\n",
        "print(\"x_test shape: \",X_test.shape)"
      ],
      "execution_count": null,
      "outputs": [
        {
          "output_type": "stream",
          "text": [
            "x_train shape:  (60000, 28, 28)\n",
            "x_test shape:  (10000, 28, 28)\n"
          ],
          "name": "stdout"
        }
      ]
    },
    {
      "cell_type": "code",
      "metadata": {
        "colab": {
          "base_uri": "https://localhost:8080/"
        },
        "id": "BqltTttr7et1",
        "outputId": "fa313f93-34a6-4cd8-bf30-23cf3093febc"
      },
      "source": [
        "# Reshape\n",
        "X_train = X_train.reshape(-1,28,28,1)\n",
        "X_test = X_test.reshape(-1,28,28,1)\n",
        "print(\"x_train shape: \",X_train.shape)\n",
        "print(\"test shape: \",X_test.shape)"
      ],
      "execution_count": null,
      "outputs": [
        {
          "output_type": "stream",
          "text": [
            "x_train shape:  (60000, 28, 28, 1)\n",
            "test shape:  (10000, 28, 28, 1)\n"
          ],
          "name": "stdout"
        }
      ]
    },
    {
      "cell_type": "code",
      "metadata": {
        "colab": {
          "base_uri": "https://localhost:8080/"
        },
        "id": "a5Wv9x667xDI",
        "outputId": "86cab5c0-653e-418f-cdd2-3391216700e8"
      },
      "source": [
        "# Use one hot encoding to transform the labels to data that the model can understand\n",
        "y_train = to_categorical(y_train)\n",
        "y_test = to_categorical(y_test)\n",
        "\n",
        "print(y_train.shape, y_test.shape)"
      ],
      "execution_count": null,
      "outputs": [
        {
          "output_type": "stream",
          "text": [
            "(60000, 10) (10000, 10)\n"
          ],
          "name": "stdout"
        }
      ]
    },
    {
      "cell_type": "code",
      "metadata": {
        "id": "eObmfWf974JO"
      },
      "source": [
        "from sklearn.metrics import confusion_matrix\n",
        "import itertools\n",
        "\n",
        "from keras.utils.np_utils import to_categorical # convert to one-hot-encoding\n",
        "from keras.models import Sequential\n",
        "from keras.layers import Dense, Dropout, Flatten, Conv2D, MaxPool2D\n",
        "from keras.optimizers import RMSprop,Adam\n",
        "from keras.preprocessing.image import ImageDataGenerator\n",
        "from keras.callbacks import ReduceLROnPlateau\n",
        "\n",
        "model = Sequential()\n",
        "#\n",
        "model.add(Conv2D(filters = 8, kernel_size = (5,5),padding = 'Same', \n",
        "                 activation ='relu', input_shape = (28,28,1)))\n",
        "model.add(MaxPool2D(pool_size=(2,2)))\n",
        "model.add(Dropout(0.25))\n",
        "#\n",
        "model.add(Conv2D(filters = 16, kernel_size = (3,3),padding = 'Same', \n",
        "                 activation ='relu'))\n",
        "model.add(MaxPool2D(pool_size=(2,2), strides=(2,2)))\n",
        "model.add(Dropout(0.25))\n",
        "# fully connected\n",
        "model.add(Flatten())\n",
        "model.add(Dense(256, activation = \"relu\"))\n",
        "model.add(Dropout(0.5))\n",
        "model.add(Dense(10, activation = \"softmax\"))\n",
        "\n",
        "# Define the optimizer\n",
        "optimizer = Adam(lr=0.001, beta_1=0.9, beta_2=0.999)"
      ],
      "execution_count": null,
      "outputs": []
    },
    {
      "cell_type": "code",
      "metadata": {
        "id": "DiFsZd6G8ZU-"
      },
      "source": [
        "# Compile the model\n",
        "model.compile(optimizer = optimizer , loss = \"categorical_crossentropy\", metrics=[\"accuracy\"])\n",
        "\n",
        "epochs = 20\n",
        "batch_size = 250"
      ],
      "execution_count": null,
      "outputs": []
    },
    {
      "cell_type": "code",
      "metadata": {
        "id": "2CBxvEbh8iHV"
      },
      "source": [
        "# data augmentation\n",
        "datagen = ImageDataGenerator(\n",
        "        featurewise_center=False,  # set input mean to 0 over the dataset\n",
        "        samplewise_center=False,  # set each sample mean to 0\n",
        "        featurewise_std_normalization=False,  # divide inputs by std of the dataset\n",
        "        samplewise_std_normalization=False,  # divide each input by its std\n",
        "        zca_whitening=False,  # dimesion reduction\n",
        "        rotation_range=5,  # randomly rotate images in the range 5 degrees\n",
        "        zoom_range = 0.1, # Randomly zoom image 10%\n",
        "        width_shift_range=0.1,  # randomly shift images horizontally 10%\n",
        "        height_shift_range=0.1,  # randomly shift images vertically 10%\n",
        "        horizontal_flip=False,  # randomly flip images\n",
        "        vertical_flip=False)  # randomly flip images\n",
        "\n",
        "datagen.fit(X_train)"
      ],
      "execution_count": null,
      "outputs": []
    },
    {
      "cell_type": "code",
      "metadata": {
        "colab": {
          "background_save": true,
          "base_uri": "https://localhost:8080/"
        },
        "id": "LEooF6Oa8jdc",
        "outputId": "bce16f3d-42ab-423b-cf1e-6c0e316dbba4"
      },
      "source": [
        "history = model.fit(\n",
        "  datagen.flow(X_train, y_train, batch_size=250),\n",
        "  epochs=20,\n",
        "  validation_data=(X_test, y_test)\n",
        ")"
      ],
      "execution_count": null,
      "outputs": [
        {
          "output_type": "stream",
          "text": [
            "Epoch 1/20\n",
            "240/240 [==============================] - 64s 196ms/step - loss: 2.3018 - accuracy: 0.1106 - val_loss: 2.3011 - val_accuracy: 0.1135\n",
            "Epoch 2/20\n",
            "240/240 [==============================] - 46s 191ms/step - loss: 2.3013 - accuracy: 0.1118 - val_loss: 2.3012 - val_accuracy: 0.1135\n",
            "Epoch 3/20\n",
            "240/240 [==============================] - 46s 191ms/step - loss: 2.3015 - accuracy: 0.1115 - val_loss: 2.3010 - val_accuracy: 0.1135\n",
            "Epoch 4/20\n",
            "240/240 [==============================] - 46s 193ms/step - loss: 2.3011 - accuracy: 0.1125 - val_loss: 2.3011 - val_accuracy: 0.1135\n",
            "Epoch 5/20\n",
            "240/240 [==============================] - 46s 193ms/step - loss: 2.3016 - accuracy: 0.1118 - val_loss: 2.3011 - val_accuracy: 0.1135\n",
            "Epoch 6/20\n",
            "240/240 [==============================] - 47s 194ms/step - loss: 2.3013 - accuracy: 0.1130 - val_loss: 2.3010 - val_accuracy: 0.1135\n",
            "Epoch 7/20\n",
            "240/240 [==============================] - 47s 195ms/step - loss: 2.3014 - accuracy: 0.1109 - val_loss: 2.3010 - val_accuracy: 0.1135\n",
            "Epoch 8/20\n",
            "240/240 [==============================] - 46s 190ms/step - loss: 2.3014 - accuracy: 0.1121 - val_loss: 2.3011 - val_accuracy: 0.1135\n",
            "Epoch 9/20\n",
            "240/240 [==============================] - 46s 190ms/step - loss: 2.3010 - accuracy: 0.1121 - val_loss: 2.3010 - val_accuracy: 0.1135\n",
            "Epoch 10/20\n",
            "240/240 [==============================] - 45s 189ms/step - loss: 2.3011 - accuracy: 0.1131 - val_loss: 2.3010 - val_accuracy: 0.1135\n",
            "Epoch 11/20\n",
            "240/240 [==============================] - 46s 190ms/step - loss: 2.3012 - accuracy: 0.1138 - val_loss: 2.3010 - val_accuracy: 0.1135\n",
            "Epoch 12/20\n",
            "240/240 [==============================] - 46s 190ms/step - loss: 2.3012 - accuracy: 0.1120 - val_loss: 2.3010 - val_accuracy: 0.1135\n",
            "Epoch 13/20\n",
            "240/240 [==============================] - 46s 191ms/step - loss: 2.3016 - accuracy: 0.1113 - val_loss: 2.3010 - val_accuracy: 0.1135\n",
            "Epoch 14/20\n",
            "240/240 [==============================] - 46s 191ms/step - loss: 2.3015 - accuracy: 0.1120 - val_loss: 2.3010 - val_accuracy: 0.1135\n",
            "Epoch 15/20\n",
            "240/240 [==============================] - 46s 190ms/step - loss: 2.3013 - accuracy: 0.1121 - val_loss: 2.3010 - val_accuracy: 0.1135\n",
            "Epoch 16/20\n",
            "240/240 [==============================] - 46s 191ms/step - loss: 2.3013 - accuracy: 0.1131 - val_loss: 2.3010 - val_accuracy: 0.1135\n",
            "Epoch 17/20\n",
            "240/240 [==============================] - 46s 192ms/step - loss: 2.3014 - accuracy: 0.1108 - val_loss: 2.3010 - val_accuracy: 0.1135\n",
            "Epoch 18/20\n",
            "240/240 [==============================] - 46s 193ms/step - loss: 2.3014 - accuracy: 0.1110 - val_loss: 2.3010 - val_accuracy: 0.1135\n",
            "Epoch 19/20\n",
            "240/240 [==============================] - 47s 195ms/step - loss: 2.3011 - accuracy: 0.1139 - val_loss: 2.3010 - val_accuracy: 0.1135\n",
            "Epoch 20/20\n",
            "240/240 [==============================] - 45s 188ms/step - loss: 2.3014 - accuracy: 0.1121 - val_loss: 2.3010 - val_accuracy: 0.1135\n"
          ],
          "name": "stdout"
        }
      ]
    },
    {
      "cell_type": "code",
      "metadata": {
        "colab": {
          "base_uri": "https://localhost:8080/"
        },
        "id": "iPo2heXzIOpu",
        "outputId": "18726dcd-7fe6-4cb2-c3a0-b73a30a5933e"
      },
      "source": [
        "model.summary()"
      ],
      "execution_count": 42,
      "outputs": [
        {
          "output_type": "stream",
          "text": [
            "Model: \"sequential_2\"\n",
            "_________________________________________________________________\n",
            "Layer (type)                 Output Shape              Param #   \n",
            "=================================================================\n",
            "conv2d_4 (Conv2D)            (None, 28, 28, 8)         208       \n",
            "_________________________________________________________________\n",
            "max_pooling2d_4 (MaxPooling2 (None, 14, 14, 8)         0         \n",
            "_________________________________________________________________\n",
            "dropout_6 (Dropout)          (None, 14, 14, 8)         0         \n",
            "_________________________________________________________________\n",
            "conv2d_5 (Conv2D)            (None, 14, 14, 16)        1168      \n",
            "_________________________________________________________________\n",
            "max_pooling2d_5 (MaxPooling2 (None, 7, 7, 16)          0         \n",
            "_________________________________________________________________\n",
            "dropout_7 (Dropout)          (None, 7, 7, 16)          0         \n",
            "_________________________________________________________________\n",
            "flatten_2 (Flatten)          (None, 784)               0         \n",
            "_________________________________________________________________\n",
            "dense_4 (Dense)              (None, 256)               200960    \n",
            "_________________________________________________________________\n",
            "dropout_8 (Dropout)          (None, 256)               0         \n",
            "_________________________________________________________________\n",
            "dense_5 (Dense)              (None, 10)                2570      \n",
            "=================================================================\n",
            "Total params: 204,906\n",
            "Trainable params: 204,906\n",
            "Non-trainable params: 0\n",
            "_________________________________________________________________\n"
          ],
          "name": "stdout"
        }
      ]
    },
    {
      "cell_type": "code",
      "metadata": {
        "colab": {
          "base_uri": "https://localhost:8080/",
          "height": 295
        },
        "id": "Dzmybu8LIXMY",
        "outputId": "ce4a248e-a8d0-43fa-b0bd-6f9d586a22b7"
      },
      "source": [
        "# Plot the loss and accuracy curves for training and validation \n",
        "plt.plot(history.history['val_loss'], color='b', label=\"validation loss\")\n",
        "plt.title(\"Test Loss\")\n",
        "plt.xlabel(\"Number of Epochs\")\n",
        "plt.ylabel(\"Loss\")\n",
        "plt.legend()\n",
        "plt.show()"
      ],
      "execution_count": 44,
      "outputs": [
        {
          "output_type": "display_data",
          "data": {
            "image/png": "[encoded data removed]",
            "text/plain": [
              "<Figure size 432x288 with 1 Axes>"
            ]
          },
          "metadata": {
            "tags": [],
            "needs_background": "light"
          }
        }
      ]
    },
    {
      "cell_type": "code",
      "metadata": {
        "colab": {
          "base_uri": "https://localhost:8080/",
          "height": 295
        },
        "id": "DqlEly3sIfhs",
        "outputId": "cb4d5046-a41b-4bdb-ca89-c9b03b8ed446"
      },
      "source": [
        "plt.title(\"Train vs. Test Loss\")\n",
        "plt.plot(history.history['loss'], label='train')\n",
        "plt.plot(history.history['val_loss'], label='test')\n",
        "plt.xlabel(\"Number of Epochs\")\n",
        "plt.ylabel(\"Loss\")\n",
        "plt.legend();\n",
        "plt.show()"
      ],
      "execution_count": 47,
      "outputs": [
        {
          "output_type": "display_data",
          "data": {
            "image/png": "[encoded data removed]",
            "text/plain": [
              "<Figure size 432x288 with 1 Axes>"
            ]
          },
          "metadata": {
            "tags": [],
            "needs_background": "light"
          }
        }
      ]
    },
    {
      "cell_type": "code",
      "metadata": {
        "colab": {
          "base_uri": "https://localhost:8080/",
          "height": 585
        },
        "id": "d6w49_DELAOs",
        "outputId": "e79499c4-bb90-4478-ff90-7b32d59e680a"
      },
      "source": [
        "# confusion matrix\n",
        "y_pred = np.argmax(model.predict(X_test), axis=-1)\n",
        "\n",
        "y_test_round = np.argmax(y_test, axis=1)\n",
        "\n",
        "cm = confusion_matrix(y_test_round, y_pred)\n",
        "\n",
        "figure = plt.figure(figsize=(8, 8))\n",
        "sns.heatmap(cm, annot=True, cmap=plt.cm.Blues, square=True, fmt=\"\")\n",
        "plt.tight_layout()\n",
        "plt.ylabel('True label')\n",
        "plt.xlabel('Predicted label')\n",
        "\n",
        "plt.show()"
      ],
      "execution_count": 51,
      "outputs": [
        {
          "output_type": "display_data",
          "data": {
            "image/png": "[encoded data removed]",
            "text/plain": [
              "<Figure size 576x576 with 2 Axes>"
            ]
          },
          "metadata": {
            "tags": [],
            "needs_background": "light"
          }
        }
      ]
    }
  ]
}