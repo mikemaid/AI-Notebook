{
  "nbformat": 4,
  "nbformat_minor": 0,
  "metadata": {
    "colab": {
      "name": "Day 3 - Intro to Scikit.ipynb",
      "provenance": [],
      "authorship_tag": "ABX9TyMc5V2Izdz8Gtyow3OSFl5P",
      "include_colab_link": true
    },
    "kernelspec": {
      "name": "python3",
      "display_name": "Python 3"
    },
    "language_info": {
      "name": "python"
    }
  },
  "cells": [
    {
      "cell_type": "markdown",
      "metadata": {
        "id": "view-in-github",
        "colab_type": "text"
      },
      "source": [
        "<a href=\"https://colab.research.google.com/github/sandalis05/MIT-FutureMakers/blob/main/Day_3_Intro_to_Scikit.ipynb\" target=\"_parent\"><img src=\"https://colab.research.google.com/assets/colab-badge.svg\" alt=\"Open In Colab\"/></a>"
      ]
    },
    {
      "cell_type": "code",
      "metadata": {
        "colab": {
          "base_uri": "https://localhost:8080/",
          "height": 35
        },
        "id": "-5lEi49guEAI",
        "outputId": "cbaf0c60-8782-40ec-8f0b-7aea56b3c7aa"
      },
      "source": [
        "from sklearn.datasets import load_iris\n",
        "from sklearn import tree\n",
        "\n",
        "# Load in our dataset\n",
        "iris = load_iris()\n",
        "\n",
        "# Initialize our decision tree object\n",
        "classification_tree = tree.DecisionTreeClassifier()\n",
        "\n",
        "# Train our decision tree (tree induction + pruning)\n",
        "classification_tree = classification_tree.fit(iris_data.data, iris_data.target)\n",
        "\n",
        "# Render graph -> iris.pdf\n",
        "dot_data = tree.export_graphviz(classification_tree, out_file=None,\n",
        "                       feature_names = iris.feature_names,\n",
        "                       class_names = iris.target_names,\n",
        "                       filled=True, rounded=True,\n",
        "                       special_characters=True)\n",
        "graph = graphviz.Source(dot_data)\n",
        "graph.render(\"iris\")"
      ],
      "execution_count": 7,
      "outputs": [
        {
          "output_type": "execute_result",
          "data": {
            "application/vnd.google.colaboratory.intrinsic+json": {
              "type": "string"
            },
            "text/plain": [
              "'iris.pdf'"
            ]
          },
          "metadata": {
            "tags": []
          },
          "execution_count": 7
        }
      ]
    }
  ]
}
