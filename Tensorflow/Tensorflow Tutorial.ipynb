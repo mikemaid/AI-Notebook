{
  "nbformat": 4,
  "nbformat_minor": 0,
  "metadata": {
    "colab": {
      "name": "TensorflowTutorial.ipynb",
      "provenance": [],
      "authorship_tag": "ABX9TyOkDzzu+zJVOgvKaoOwJiL+",
      "include_colab_link": true
    },
    "kernelspec": {
      "name": "python3",
      "display_name": "Python 3"
    },
    "language_info": {
      "name": "python"
    }
  },
  "cells": [
    {
      "cell_type": "markdown",
      "metadata": {
        "id": "view-in-github",
        "colab_type": "text"
      },
      "source": [
        "<a href=\"https://colab.research.google.com/github/sandalis05/MIT-FutureMakers/blob/main/Tensorflow%20Intro/TensorflowTutorial.ipynb\" target=\"_parent\"><img src=\"https://colab.research.google.com/assets/colab-badge.svg\" alt=\"Open In Colab\"/></a>"
      ]
    },
    {
      "cell_type": "code",
      "metadata": {
        "id": "YmwatymOF9kK",
        "colab": {
          "base_uri": "https://localhost:8080/"
        },
        "outputId": "0d8e1a7d-b353-4a75-cac6-0dd37adb2006"
      },
      "source": [
        "%tensorflow_version 1.x"
      ],
      "execution_count": 1,
      "outputs": [
        {
          "output_type": "stream",
          "text": [
            "TensorFlow 1.x selected.\n"
          ],
          "name": "stdout"
        }
      ]
    },
    {
      "cell_type": "code",
      "metadata": {
        "colab": {
          "base_uri": "https://localhost:8080/"
        },
        "id": "TYpftZExGPob",
        "outputId": "ab025db0-a564-4530-fa29-7ef4db82e57e"
      },
      "source": [
        "import tensorflow as tf\n",
        "\n",
        "x = tf.constant([1,2,3,4])\n",
        "y = tf.constant([5,6,7,8])\n",
        "\n",
        "result = tf.multiply(x,y)\n",
        "\n",
        "# Initialize session\n",
        "sess = tf.Session()\n",
        "\n",
        "print(sess.run(result))\n",
        "\n",
        "# Close session\n",
        "sess.close()"
      ],
      "execution_count": 3,
      "outputs": [
        {
          "output_type": "stream",
          "text": [
            "[ 5 12 21 32]\n"
          ],
          "name": "stdout"
        }
      ]
    }
  ]
}